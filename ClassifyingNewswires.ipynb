{
 "cells": [
  {
   "cell_type": "markdown",
   "metadata": {},
   "source": [
    "# Classifying Newswires\n",
    "## Reuters Dataset\n",
    "\n",
    "In this report we will be working on the Reuters dataset, which is a set of short newswires and their topics, published by Reuters in 1986. Reuters is a simple, widely used toy dataset for text classification. There are 46 different topics, in which some topics are more represented than others, but each topic has at least 10 examples in the training set. The Reuters dataset comes packaged as part of Keras.\n",
    "\n",
    "The aim of this project is to build a network to classify Reuters newswires into 46 mutually exclusive topics.\n",
    "### Hypothesis\n",
    "- The outputs can be predicted given the inputs\n",
    "- The available data is sufficiently informative to learn the relationship between inputs and outputs\n"
   ]
  },
  {
   "cell_type": "markdown",
   "metadata": {},
   "source": [
    "### Loading the dataset"
   ]
  },
  {
   "cell_type": "code",
   "execution_count": 1,
   "metadata": {
    "scrolled": true
   },
   "outputs": [],
   "source": [
    "from keras.datasets import reuters\n",
    "(train_data, train_labels), (test_data, test_labels) = reuters.load_data(\n",
    "num_words=10000)"
   ]
  },
  {
   "cell_type": "markdown",
   "metadata": {},
   "source": [
    "The argument num_words=10000 means we will only keep the top 10,000 most frequesntly occurring words in the training data. This means that rare words will be discarded, as this allows me to work with data of a manageable size."
   ]
  },
  {
   "cell_type": "markdown",
   "metadata": {},
   "source": [
    "### I have 8,982 training examples and 2,246 test examples"
   ]
  },
  {
   "cell_type": "code",
   "execution_count": 2,
   "metadata": {},
   "outputs": [
    {
     "data": {
      "text/plain": [
       "8982"
      ]
     },
     "execution_count": 2,
     "metadata": {},
     "output_type": "execute_result"
    }
   ],
   "source": [
    " len(train_data)"
   ]
  },
  {
   "cell_type": "code",
   "execution_count": 3,
   "metadata": {},
   "outputs": [
    {
     "data": {
      "text/plain": [
       "2246"
      ]
     },
     "execution_count": 3,
     "metadata": {},
     "output_type": "execute_result"
    }
   ],
   "source": [
    "len(test_data)"
   ]
  },
  {
   "cell_type": "markdown",
   "metadata": {},
   "source": [
    "###  The variables train_data and test_data are lists of topics; each topic is a list of word indices (encoding a sequence of words)"
   ]
  },
  {
   "cell_type": "code",
   "execution_count": 4,
   "metadata": {},
   "outputs": [
    {
     "data": {
      "text/plain": [
       "array([list([1, 245, 273, 207, 156, 53, 74, 160, 26, 14, 46, 296, 26, 39, 74, 2979, 3554, 14, 46, 4689, 4329, 86, 61, 3499, 4795, 14, 61, 451, 4329, 17, 12])],\n",
       "      dtype=object)"
      ]
     },
     "execution_count": 4,
     "metadata": {},
     "output_type": "execute_result"
    }
   ],
   "source": [
    "train_data[[10]]"
   ]
  },
  {
   "cell_type": "markdown",
   "metadata": {},
   "source": [
    " ### Decoding newswires back to text\n",
    "Here we will be decoding one of the topics back to English words. \n",
    "\n",
    "Below, you can see words_index  is a dictionary mapping words to an integer index. The indices are then reversed and the integers are mapped to the words. The topics are decoded, where the indices are offset by 3 because 0, 1 and 2 are reversed indices for 'padding', 'start of sequence' and 'unknown'.\n",
    " \n",
    " "
   ]
  },
  {
   "cell_type": "code",
   "execution_count": 5,
   "metadata": {},
   "outputs": [],
   "source": [
    "word_index = reuters.get_word_index()\n",
    "reverse_word_index = dict([(value, key) for (key, value) in word_index.items()])\n",
    "decoded_newswire = ' '.join([reverse_word_index.get(i - 3, '?') for i in\n",
    "train_data[0]])"
   ]
  },
  {
   "cell_type": "code",
   "execution_count": 6,
   "metadata": {},
   "outputs": [
    {
     "data": {
      "text/plain": [
       "3"
      ]
     },
     "execution_count": 6,
     "metadata": {},
     "output_type": "execute_result"
    }
   ],
   "source": [
    "train_labels[10]"
   ]
  },
  {
   "cell_type": "markdown",
   "metadata": {},
   "source": [
    "## Encoding the Data\n",
    "As we cannot feed lists of integers into a neural network, we will be turning my lists into tensors using one-hot encoding. One hot encoding  For example, turning the sequence [3, 5] into a 10,000 dimensional vector that will be all 0s besides the indices 3 and 5 which will be 1s. Then we can use a Dense layer as the first layer in my network which will be capable of handling floating point vector data."
   ]
  },
  {
   "cell_type": "code",
   "execution_count": 7,
   "metadata": {},
   "outputs": [
    {
     "data": {
      "text/plain": [
       "(array([[0., 1., 1., ..., 0., 0., 0.],\n",
       "        [0., 1., 1., ..., 0., 0., 0.],\n",
       "        [0., 1., 1., ..., 0., 0., 0.],\n",
       "        ...,\n",
       "        [0., 1., 1., ..., 0., 0., 0.],\n",
       "        [0., 1., 1., ..., 0., 0., 0.],\n",
       "        [0., 1., 1., ..., 0., 0., 0.]]),\n",
       " (8982, 10000),\n",
       " 2)"
      ]
     },
     "execution_count": 7,
     "metadata": {},
     "output_type": "execute_result"
    }
   ],
   "source": [
    "import numpy as np\n",
    "def vectorize_sequences(sequences, dimension=10000):\n",
    "    # Creates an all-zero matrix of shape (len(sequences),dimensions)\n",
    "    results = np.zeros((len(sequences), dimension))\n",
    "    for i, sequence in enumerate(sequences):\n",
    "        #sets specific indices of results[i] to 1s\n",
    "        results[i, sequence] = 1.\n",
    "    return results\n",
    "#vectorized training data\n",
    "x_train = vectorize_sequences(train_data)\n",
    "#vectorized test data\n",
    "x_test = vectorize_sequences(test_data)\n",
    "#vectorized labels\n",
    "y_train = np.asarray(train_labels).astype('float32')\n",
    "y_test = np.asarray(test_labels).astype('float32')\n",
    "x_train,x_train.shape,x_train.ndim"
   ]
  },
  {
   "cell_type": "code",
   "execution_count": 8,
   "metadata": {},
   "outputs": [
    {
     "data": {
      "text/plain": [
       "(array([[0., 0., 0., ..., 0., 0., 0.],\n",
       "        [0., 0., 0., ..., 0., 0., 0.],\n",
       "        [0., 0., 0., ..., 0., 0., 0.],\n",
       "        ...,\n",
       "        [0., 0., 0., ..., 0., 0., 0.],\n",
       "        [0., 0., 0., ..., 0., 0., 0.],\n",
       "        [0., 0., 0., ..., 0., 0., 0.]]),\n",
       " (8982, 46),\n",
       " 2)"
      ]
     },
     "execution_count": 8,
     "metadata": {},
     "output_type": "execute_result"
    }
   ],
   "source": [
    "def to_one_hot(labels, dimension=46):\n",
    "    results = np.zeros((len(labels), dimension))\n",
    "    for i, label in enumerate(labels):\n",
    "        results[i, label] = 1.\n",
    "    return results\n",
    "\n",
    "one_hot_train_labels = to_one_hot(train_labels)\n",
    "one_hot_test_labels = to_one_hot(test_labels)\n",
    "one_hot_train_labels, one_hot_train_labels.shape, one_hot_train_labels.ndim"
   ]
  },
  {
   "cell_type": "markdown",
   "metadata": {},
   "source": [
    "## Building the network\n",
    "The number of output classes for this dataset is 46 therefore the dimensionality of the output space is much larger than other datasets, such as the IMDb dataset, where it is 2. For this dataset we will be using  64 dimensional intermediate layers to separate the 46 different classes, and will be building and tuning upon this model to see the results."
   ]
  },
  {
   "cell_type": "markdown",
   "metadata": {},
   "source": [
    "## Model 1"
   ]
  },
  {
   "cell_type": "code",
   "execution_count": 9,
   "metadata": {},
   "outputs": [],
   "source": [
    "from keras import models\n",
    "from keras import layers\n",
    "\n",
    "model = models.Sequential()\n",
    "model.add(layers.Dense(64, activation='relu', input_shape=(10000,)))\n",
    "model.add(layers.Dense(64, activation='relu'))\n",
    "model.add(layers.Dense(46, activation='softmax'))"
   ]
  },
  {
   "cell_type": "markdown",
   "metadata": {},
   "source": [
    "As you can see above, we end the network with a Dense layer of 46, so for each input, the network will output a 46 dimensional vector. This layer also uses softmax activation, which turns the numbers into probabilities that sum to one. The softmax function outputs a vector that represents the probability distributions of the potential outcomes."
   ]
  },
  {
   "cell_type": "markdown",
   "metadata": {},
   "source": [
    "### Compiling Model"
   ]
  },
  {
   "cell_type": "code",
   "execution_count": 10,
   "metadata": {},
   "outputs": [],
   "source": [
    "model.compile(optimizer='rmsprop',\n",
    "loss='categorical_crossentropy',\n",
    "metrics=['accuracy'])"
   ]
  },
  {
   "cell_type": "markdown",
   "metadata": {},
   "source": [
    "The rmsprop optimizer is generally a good enough choice for whatever your problem may be, so we will be using that algorithm for this network. The best loss function to use is categorical_crossentropy. This will measure the distance between the probability distribution output and the true distribution of the labels. We can then train the network to output results close to true labels by minimizing the distance between probability distribution and the true distribution.  "
   ]
  },
  {
   "cell_type": "markdown",
   "metadata": {},
   "source": [
    "### Setting aside a validation set\n",
    "Setting apart 1000 samples in the training data to use as a validation set."
   ]
  },
  {
   "cell_type": "code",
   "execution_count": 11,
   "metadata": {},
   "outputs": [],
   "source": [
    "x_val = x_train[:1000]\n",
    "partial_x_train = x_train[1000:]\n",
    "y_val = one_hot_train_labels[:1000]\n",
    "partial_y_train = one_hot_train_labels[1000:]"
   ]
  },
  {
   "cell_type": "markdown",
   "metadata": {},
   "source": [
    "### Training the model"
   ]
  },
  {
   "cell_type": "code",
   "execution_count": 12,
   "metadata": {
    "scrolled": false
   },
   "outputs": [
    {
     "name": "stdout",
     "output_type": "stream",
     "text": [
      "Epoch 1/20\n",
      "16/16 [==============================] - 1s 32ms/step - loss: 2.5525 - accuracy: 0.5402 - val_loss: 1.7211 - val_accuracy: 0.6460\n",
      "Epoch 2/20\n",
      "16/16 [==============================] - 0s 20ms/step - loss: 1.4099 - accuracy: 0.7018 - val_loss: 1.3156 - val_accuracy: 0.7070\n",
      "Epoch 3/20\n",
      "16/16 [==============================] - 0s 20ms/step - loss: 1.0442 - accuracy: 0.7823 - val_loss: 1.1236 - val_accuracy: 0.7590\n",
      "Epoch 4/20\n",
      "16/16 [==============================] - 0s 21ms/step - loss: 0.8221 - accuracy: 0.8252 - val_loss: 1.0440 - val_accuracy: 0.7780\n",
      "Epoch 5/20\n",
      "16/16 [==============================] - 0s 20ms/step - loss: 0.6553 - accuracy: 0.8618 - val_loss: 0.9754 - val_accuracy: 0.7920\n",
      "Epoch 6/20\n",
      "16/16 [==============================] - 0s 20ms/step - loss: 0.5237 - accuracy: 0.8884 - val_loss: 0.9289 - val_accuracy: 0.8110\n",
      "Epoch 7/20\n",
      "16/16 [==============================] - 0s 21ms/step - loss: 0.4251 - accuracy: 0.9138 - val_loss: 0.9044 - val_accuracy: 0.8080\n",
      "Epoch 8/20\n",
      "16/16 [==============================] - 0s 21ms/step - loss: 0.3438 - accuracy: 0.9292 - val_loss: 0.9166 - val_accuracy: 0.8150\n",
      "Epoch 9/20\n",
      "16/16 [==============================] - 0s 21ms/step - loss: 0.2864 - accuracy: 0.9386 - val_loss: 0.9218 - val_accuracy: 0.8120\n",
      "Epoch 10/20\n",
      "16/16 [==============================] - 0s 22ms/step - loss: 0.2368 - accuracy: 0.9483 - val_loss: 0.9290 - val_accuracy: 0.8150\n",
      "Epoch 11/20\n",
      "16/16 [==============================] - 0s 22ms/step - loss: 0.2051 - accuracy: 0.9504 - val_loss: 0.9526 - val_accuracy: 0.8130\n",
      "Epoch 12/20\n",
      "16/16 [==============================] - 0s 21ms/step - loss: 0.1814 - accuracy: 0.9533 - val_loss: 0.9397 - val_accuracy: 0.8130\n",
      "Epoch 13/20\n",
      "16/16 [==============================] - 0s 21ms/step - loss: 0.1628 - accuracy: 0.9526 - val_loss: 0.9851 - val_accuracy: 0.8110\n",
      "Epoch 14/20\n",
      "16/16 [==============================] - 0s 21ms/step - loss: 0.1492 - accuracy: 0.9548 - val_loss: 0.9930 - val_accuracy: 0.8080\n",
      "Epoch 15/20\n",
      "16/16 [==============================] - 0s 21ms/step - loss: 0.1406 - accuracy: 0.9553 - val_loss: 0.9948 - val_accuracy: 0.8110\n",
      "Epoch 16/20\n",
      "16/16 [==============================] - 0s 21ms/step - loss: 0.1283 - accuracy: 0.9560 - val_loss: 1.0149 - val_accuracy: 0.8030\n",
      "Epoch 17/20\n",
      "16/16 [==============================] - 0s 21ms/step - loss: 0.1225 - accuracy: 0.9563 - val_loss: 1.0491 - val_accuracy: 0.8060\n",
      "Epoch 18/20\n",
      "16/16 [==============================] - 0s 21ms/step - loss: 0.1180 - accuracy: 0.9577 - val_loss: 1.0821 - val_accuracy: 0.8040\n",
      "Epoch 19/20\n",
      "16/16 [==============================] - 0s 21ms/step - loss: 0.1132 - accuracy: 0.9582 - val_loss: 1.0572 - val_accuracy: 0.8110\n",
      "Epoch 20/20\n",
      "16/16 [==============================] - 0s 19ms/step - loss: 0.1092 - accuracy: 0.9565 - val_loss: 1.1014 - val_accuracy: 0.7960\n"
     ]
    }
   ],
   "source": [
    "history = model.fit(partial_x_train,\n",
    "                    partial_y_train,\n",
    "                    epochs=20,\n",
    "                    batch_size=512,\n",
    "                    validation_data=(x_val, y_val))"
   ]
  },
  {
   "cell_type": "markdown",
   "metadata": {},
   "source": [
    "Here we trained the network for 20 epochs, with a batch size of 512. The batch size defines the number of samples that will be propoagated through the network, which in this case is 512 samples being chosen at random."
   ]
  },
  {
   "cell_type": "code",
   "execution_count": 13,
   "metadata": {
    "scrolled": true
   },
   "outputs": [
    {
     "data": {
      "image/png": "[encoded data removed]",
      "text/plain": [
       "<Figure size 432x288 with 1 Axes>"
      ]
     },
     "metadata": {
      "needs_background": "light"
     },
     "output_type": "display_data"
    }
   ],
   "source": [
    "import matplotlib.pyplot as plt\n",
    "\n",
    "loss = history.history['loss']\n",
    "val_loss = history.history['val_loss']\n",
    "epochs = range(1, len(loss) + 1)\n",
    "plt.plot(epochs, loss, 'bo', label='Training loss')\n",
    "plt.plot(epochs, val_loss, 'b', label='Validation loss')\n",
    "plt.title('Training and validation loss')\n",
    "plt.xlabel('Epochs')\n",
    "plt.ylabel('Loss')\n",
    "plt.legend()\n",
    "plt.show()"
   ]
  },
  {
   "cell_type": "markdown",
   "metadata": {},
   "source": [
    "We can see that the training loss is always decreasing and reaches its best value at the end of the process, despite it being slowed down heavily after the 7th epoch. On the other hand, the validation loss decreases until epoch 8, in which it then declines till the last epoch, meaning this network is overfitting."
   ]
  },
  {
   "cell_type": "code",
   "execution_count": 14,
   "metadata": {},
   "outputs": [
    {
     "data": {
      "image/png": "[encoded data removed]",
      "text/plain": [
       "<Figure size 432x288 with 1 Axes>"
      ]
     },
     "metadata": {
      "needs_background": "light"
     },
     "output_type": "display_data"
    }
   ],
   "source": [
    "acc = history.history['accuracy']\n",
    "val_acc = history.history['val_accuracy']\n",
    "plt.plot(epochs, acc, 'bo', label='Training acc')\n",
    "plt.plot(epochs, val_acc, 'b', label='Validation acc')\n",
    "plt.title('Training and validation accuracy')\n",
    "plt.xlabel('Epochs')\n",
    "plt.ylabel('Accuracy')\n",
    "plt.legend()\n",
    "plt.show()"
   ]
  },
  {
   "cell_type": "markdown",
   "metadata": {},
   "source": [
    "As you can see the training accuracy increases with every epoch. This is expected when running gradient-descent optimization. The validation accuracy is increasing and reaches its peak validation accuracy of 82% at the 7th epoch. The validation data set then starts to decrease, meaning this network is overfitting. "
   ]
  },
  {
   "cell_type": "markdown",
   "metadata": {},
   "source": [
    "## Model 2 - Reducing epochs\n",
    "For this model we will be reducing the number of epochs from 20 to 9, to try and prevent overfitting."
   ]
  },
  {
   "cell_type": "code",
   "execution_count": 15,
   "metadata": {},
   "outputs": [
    {
     "name": "stdout",
     "output_type": "stream",
     "text": [
      "Epoch 1/9\n",
      "16/16 [==============================] - 0s 29ms/step - loss: 2.4545 - accuracy: 0.5319 - val_loss: 1.6261 - val_accuracy: 0.6440\n",
      "Epoch 2/9\n",
      "16/16 [==============================] - 0s 20ms/step - loss: 1.3519 - accuracy: 0.7114 - val_loss: 1.2634 - val_accuracy: 0.7150\n",
      "Epoch 3/9\n",
      "16/16 [==============================] - 0s 21ms/step - loss: 1.0189 - accuracy: 0.7795 - val_loss: 1.0991 - val_accuracy: 0.7480\n",
      "Epoch 4/9\n",
      "16/16 [==============================] - 0s 21ms/step - loss: 0.8010 - accuracy: 0.8291 - val_loss: 1.0125 - val_accuracy: 0.7820\n",
      "Epoch 5/9\n",
      "16/16 [==============================] - 0s 21ms/step - loss: 0.6417 - accuracy: 0.8702 - val_loss: 0.9420 - val_accuracy: 0.8060\n",
      "Epoch 6/9\n",
      "16/16 [==============================] - 0s 20ms/step - loss: 0.5117 - accuracy: 0.8956 - val_loss: 0.9101 - val_accuracy: 0.8140\n",
      "Epoch 7/9\n",
      "16/16 [==============================] - 0s 20ms/step - loss: 0.4105 - accuracy: 0.9132 - val_loss: 0.9121 - val_accuracy: 0.8030\n",
      "Epoch 8/9\n",
      "16/16 [==============================] - 0s 21ms/step - loss: 0.3358 - accuracy: 0.9286 - val_loss: 0.9092 - val_accuracy: 0.8040\n",
      "Epoch 9/9\n",
      "16/16 [==============================] - 0s 19ms/step - loss: 0.2777 - accuracy: 0.9402 - val_loss: 0.9023 - val_accuracy: 0.8130\n",
      "71/71 [==============================] - 0s 1ms/step - loss: 1.0112 - accuracy: 0.7832\n"
     ]
    }
   ],
   "source": [
    "model = models.Sequential()\n",
    "model.add(layers.Dense(64, activation='relu', input_shape=(10000,)))\n",
    "model.add(layers.Dense(64, activation='relu'))\n",
    "model.add(layers.Dense(46, activation='softmax'))\n",
    "\n",
    "model.compile(optimizer='rmsprop',\n",
    "        loss='categorical_crossentropy',\n",
    "        metrics=['accuracy'])\n",
    "history = model.fit(partial_x_train,\n",
    "            partial_y_train,\n",
    "            epochs=9,\n",
    "            batch_size=512,\n",
    "            validation_data=(x_val, y_val))\n",
    "results = model.evaluate(x_test, one_hot_test_labels)"
   ]
  },
  {
   "cell_type": "markdown",
   "metadata": {},
   "source": [
    "For this model we decreased the number of epochs from 20 to 9 to prevent overfitting, an 81% accuracy was still achieved which was good and the validation loss did not start to increase as a result of reducing the epochs."
   ]
  },
  {
   "cell_type": "code",
   "execution_count": 17,
   "metadata": {},
   "outputs": [
    {
     "data": {
      "image/png": "[encoded data removed]",
      "text/plain": [
       "<Figure size 432x288 with 1 Axes>"
      ]
     },
     "metadata": {
      "needs_background": "light"
     },
     "output_type": "display_data"
    }
   ],
   "source": [
    "loss = history.history['loss']\n",
    "val_loss = history.history['val_loss']\n",
    "epochs = range(1, len(loss) + 1)\n",
    "plt.plot(epochs, loss, 'bo', label='Training loss')\n",
    "plt.plot(epochs, val_loss, 'b', label='Validation loss')\n",
    "plt.title('Training and validation loss')\n",
    "plt.xlabel('Epochs')\n",
    "plt.ylabel('Loss')\n",
    "plt.legend()\n",
    "plt.show()"
   ]
  },
  {
   "cell_type": "markdown",
   "metadata": {},
   "source": [
    "After reducing the number of epochs to 9, you can see that the training data set is still decreasing, and the loss for the validation data set also decreases until the end however the rate at which it decreases is heavily slowed. Any more epochs and the validation data set would start to increase, so this model is still overfitting."
   ]
  },
  {
   "cell_type": "code",
   "execution_count": 18,
   "metadata": {},
   "outputs": [
    {
     "data": {
      "image/png": "[encoded data removed]",
      "text/plain": [
       "<Figure size 432x288 with 1 Axes>"
      ]
     },
     "metadata": {
      "needs_background": "light"
     },
     "output_type": "display_data"
    }
   ],
   "source": [
    "acc = history.history['accuracy']\n",
    "val_acc = history.history['val_accuracy']\n",
    "plt.plot(epochs, acc, 'bo', label='Training acc')\n",
    "plt.plot(epochs, val_acc, 'b', label='Validation acc')\n",
    "plt.title('Training and validation accuracy')\n",
    "plt.xlabel('Epochs')\n",
    "plt.ylabel('Accuracy')\n",
    "plt.legend()\n",
    "plt.show()"
   ]
  },
  {
   "cell_type": "markdown",
   "metadata": {},
   "source": [
    "The training accuracy increases with every epoch and reaches its peak at 94% at 9 epochs, however the validation dataset reaches its peak of 81% at 6 epochs and then starts to decrease again, eventually hitting 81% again at 9 epochs. Therefore this model is overfitting.\n",
    "\n"
   ]
  },
  {
   "cell_type": "markdown",
   "metadata": {},
   "source": [
    "## Model 3 - Adding layers\n",
    "Adding one extra hidden layer, as well as increasing the first layer unit from 64 to 128."
   ]
  },
  {
   "cell_type": "code",
   "execution_count": 22,
   "metadata": {},
   "outputs": [
    {
     "name": "stdout",
     "output_type": "stream",
     "text": [
      "Epoch 1/9\n",
      "16/16 [==============================] - 1s 38ms/step - loss: 2.3450 - accuracy: 0.5410 - val_loss: 1.5703 - val_accuracy: 0.6490\n",
      "Epoch 2/9\n",
      "16/16 [==============================] - 0s 28ms/step - loss: 1.2681 - accuracy: 0.7224 - val_loss: 1.2382 - val_accuracy: 0.7290\n",
      "Epoch 3/9\n",
      "16/16 [==============================] - 0s 29ms/step - loss: 0.9320 - accuracy: 0.7933 - val_loss: 1.0869 - val_accuracy: 0.7670\n",
      "Epoch 4/9\n",
      "16/16 [==============================] - 0s 31ms/step - loss: 0.7098 - accuracy: 0.8462 - val_loss: 1.0789 - val_accuracy: 0.7700\n",
      "Epoch 5/9\n",
      "16/16 [==============================] - 0s 30ms/step - loss: 0.5363 - accuracy: 0.8815 - val_loss: 0.9879 - val_accuracy: 0.7960\n",
      "Epoch 6/9\n",
      "16/16 [==============================] - 0s 29ms/step - loss: 0.4004 - accuracy: 0.9128 - val_loss: 1.0319 - val_accuracy: 0.7810\n",
      "Epoch 7/9\n",
      "16/16 [==============================] - 0s 29ms/step - loss: 0.3448 - accuracy: 0.9222 - val_loss: 0.9465 - val_accuracy: 0.8150\n",
      "Epoch 8/9\n",
      "16/16 [==============================] - 0s 29ms/step - loss: 0.2486 - accuracy: 0.9419 - val_loss: 0.9963 - val_accuracy: 0.7990\n",
      "Epoch 9/9\n",
      "16/16 [==============================] - 0s 27ms/step - loss: 0.2155 - accuracy: 0.9474 - val_loss: 1.0154 - val_accuracy: 0.8090\n",
      "71/71 [==============================] - 0s 2ms/step - loss: 1.1593 - accuracy: 0.7778\n"
     ]
    }
   ],
   "source": [
    "model = models.Sequential()\n",
    "model.add(layers.Dense(128, activation='relu', input_shape=(10000,)))\n",
    "model.add(layers.Dense(64, activation='relu'))\n",
    "model.add(layers.Dense(64, activation='relu'))\n",
    "model.add(layers.Dense(46, activation='softmax'))\n",
    "\n",
    "model.compile(optimizer='rmsprop',\n",
    "        loss='categorical_crossentropy',\n",
    "        metrics=['accuracy'])\n",
    "history = model.fit(partial_x_train,\n",
    "            partial_y_train,\n",
    "            epochs=9,\n",
    "            batch_size=512,\n",
    "            validation_data=(x_val, y_val))\n",
    "results = model.evaluate(x_test, one_hot_test_labels)"
   ]
  },
  {
   "cell_type": "code",
   "execution_count": 23,
   "metadata": {},
   "outputs": [
    {
     "data": {
      "image/png": "[encoded data removed]",
      "text/plain": [
       "<Figure size 432x288 with 1 Axes>"
      ]
     },
     "metadata": {
      "needs_background": "light"
     },
     "output_type": "display_data"
    }
   ],
   "source": [
    "loss = history.history['loss']\n",
    "val_loss = history.history['val_loss']\n",
    "epochs = range(1, len(loss) + 1)\n",
    "plt.plot(epochs, loss, 'bo', label='Training loss')\n",
    "plt.plot(epochs, val_loss, 'b', label='Validation loss')\n",
    "plt.title('Training and validation loss')\n",
    "plt.xlabel('Epochs')\n",
    "plt.ylabel('Loss')\n",
    "plt.legend()\n",
    "plt.show()"
   ]
  },
  {
   "cell_type": "markdown",
   "metadata": {},
   "source": [
    "Changes made in this network, affected the validation loss, it increased to 0.94  at its lowest point, higher by 4% from model 2. The training loss slowly decreases till the end when it hits 21% by epoch 9, considerably lower than model 2, where it reached 27% by epoch 9. This graph is overfitting."
   ]
  },
  {
   "cell_type": "code",
   "execution_count": 24,
   "metadata": {},
   "outputs": [
    {
     "data": {
      "image/png": "[encoded data removed]",
      "text/plain": [
       "<Figure size 432x288 with 1 Axes>"
      ]
     },
     "metadata": {
      "needs_background": "light"
     },
     "output_type": "display_data"
    }
   ],
   "source": [
    "acc = history.history['accuracy']\n",
    "val_acc = history.history['val_accuracy']\n",
    "plt.plot(epochs, acc, 'bo', label='Training acc')\n",
    "plt.plot(epochs, val_acc, 'b', label='Validation acc')\n",
    "plt.title('Training and validation accuracy')\n",
    "plt.xlabel('Epochs')\n",
    "plt.ylabel('Accuracy')\n",
    "plt.legend()\n",
    "plt.show()"
   ]
  },
  {
   "cell_type": "markdown",
   "metadata": {},
   "source": [
    "This graph is very similar to the model 2 accuracy graph. The accuracy for the training data set is almost identical, therefore adding the extra layers and increasing the unit size in the first layer did not make much of a difference. The validation accuracy also fluctuates more but still reaches a good accuracy of 80%. The model is still overfitting."
   ]
  },
  {
   "cell_type": "markdown",
   "metadata": {},
   "source": [
    "## Model 4 - Removing layers\n",
    "For this model, we will be removing one of the hidden layers, so only one hidden layer remains, continuing on from the last model with the same number of epochs, 9."
   ]
  },
  {
   "cell_type": "code",
   "execution_count": 19,
   "metadata": {},
   "outputs": [
    {
     "name": "stdout",
     "output_type": "stream",
     "text": [
      "Epoch 1/9\n",
      "16/16 [==============================] - 0s 29ms/step - loss: 2.6190 - accuracy: 0.5451 - val_loss: 1.8744 - val_accuracy: 0.6510\n",
      "Epoch 2/9\n",
      "16/16 [==============================] - 0s 20ms/step - loss: 1.5179 - accuracy: 0.7176 - val_loss: 1.3708 - val_accuracy: 0.7250\n",
      "Epoch 3/9\n",
      "16/16 [==============================] - 0s 20ms/step - loss: 1.0897 - accuracy: 0.7860 - val_loss: 1.1413 - val_accuracy: 0.7680\n",
      "Epoch 4/9\n",
      "16/16 [==============================] - 0s 20ms/step - loss: 0.8388 - accuracy: 0.8403 - val_loss: 1.0251 - val_accuracy: 0.7920\n",
      "Epoch 5/9\n",
      "16/16 [==============================] - 0s 21ms/step - loss: 0.6703 - accuracy: 0.8721 - val_loss: 0.9408 - val_accuracy: 0.8050\n",
      "Epoch 6/9\n",
      "16/16 [==============================] - 0s 20ms/step - loss: 0.5483 - accuracy: 0.8950 - val_loss: 0.8943 - val_accuracy: 0.8150\n",
      "Epoch 7/9\n",
      "16/16 [==============================] - 0s 20ms/step - loss: 0.4530 - accuracy: 0.9119 - val_loss: 0.8657 - val_accuracy: 0.8190\n",
      "Epoch 8/9\n",
      "16/16 [==============================] - 0s 20ms/step - loss: 0.3771 - accuracy: 0.9228 - val_loss: 0.8456 - val_accuracy: 0.8200\n",
      "Epoch 9/9\n",
      "16/16 [==============================] - 0s 18ms/step - loss: 0.3166 - accuracy: 0.9359 - val_loss: 0.8339 - val_accuracy: 0.8240\n",
      "71/71 [==============================] - 0s 1ms/step - loss: 0.9074 - accuracy: 0.7974\n"
     ]
    }
   ],
   "source": [
    "model = models.Sequential()\n",
    "model.add(layers.Dense(64, activation='relu', input_shape=(10000,)))\n",
    "model.add(layers.Dense(46, activation='softmax'))\n",
    "\n",
    "model.compile(optimizer='rmsprop',\n",
    "        loss='categorical_crossentropy',\n",
    "        metrics=['accuracy'])\n",
    "history = model.fit(partial_x_train,\n",
    "            partial_y_train,\n",
    "            epochs=9,\n",
    "            batch_size=512,\n",
    "            validation_data=(x_val, y_val))\n",
    "results = model.evaluate(x_test, one_hot_test_labels)"
   ]
  },
  {
   "cell_type": "code",
   "execution_count": 20,
   "metadata": {},
   "outputs": [
    {
     "data": {
      "image/png": "[encoded data removed]",
      "text/plain": [
       "<Figure size 432x288 with 1 Axes>"
      ]
     },
     "metadata": {
      "needs_background": "light"
     },
     "output_type": "display_data"
    }
   ],
   "source": [
    "loss = history.history['loss']\n",
    "val_loss = history.history['val_loss']\n",
    "epochs = range(1, len(loss) + 1)\n",
    "plt.plot(epochs, loss, 'bo', label='Training loss')\n",
    "plt.plot(epochs, val_loss, 'b', label='Validation loss')\n",
    "plt.title('Training and validation loss')\n",
    "plt.xlabel('Epochs')\n",
    "plt.ylabel('Loss')\n",
    "plt.legend()\n",
    "plt.show()"
   ]
  },
  {
   "cell_type": "markdown",
   "metadata": {},
   "source": [
    "From the graph above we can see that despite it being similar to the model above, the training dataset and validation data set are getting closer to each other. By removing one of the 64 dimensional hidden layers, the validation loss has decreased from 94% at epoch 9 from model 3, to now being at 83% at epoch 9 for this model. Despite it still overfitting, this shows progress for the validation loss and performance is getting better."
   ]
  },
  {
   "cell_type": "code",
   "execution_count": 21,
   "metadata": {},
   "outputs": [
    {
     "data": {
      "image/png": "[encoded data removed]",
      "text/plain": [
       "<Figure size 432x288 with 1 Axes>"
      ]
     },
     "metadata": {
      "needs_background": "light"
     },
     "output_type": "display_data"
    }
   ],
   "source": [
    "acc = history.history['accuracy']\n",
    "val_acc = history.history['val_accuracy']\n",
    "plt.plot(epochs, acc, 'bo', label='Training acc')\n",
    "plt.plot(epochs, val_acc, 'b', label='Validation acc')\n",
    "plt.title('Training and validation accuracy')\n",
    "plt.xlabel('Epochs')\n",
    "plt.ylabel('Accuracy')\n",
    "plt.legend()\n",
    "plt.show()"
   ]
  },
  {
   "cell_type": "markdown",
   "metadata": {},
   "source": [
    "The training accuracy for this model is very similar to model 3. The training accuracy is slightly reduced, from 94% to 93% by epoch 9. The validation accuracy has slightly increased which shows some performance increases, as it hits 82%, which it did not in model 2.\n",
    "\n",
    "Overall removing one of the hidden layers, reduced validation loss as well as slightly increased validation accuracy, resulting in better performance, despite it still being overfitting.\n"
   ]
  },
  {
   "cell_type": "markdown",
   "metadata": {},
   "source": [
    "## Model 5 - Adding dropout\n",
    "Using the same layer units and number of epochs as the first model, I decided to add dropout to the first two layers to see the results. Dropout set to 0.5. \n"
   ]
  },
  {
   "cell_type": "code",
   "execution_count": 25,
   "metadata": {},
   "outputs": [
    {
     "name": "stdout",
     "output_type": "stream",
     "text": [
      "Epoch 1/20\n",
      "16/16 [==============================] - 0s 31ms/step - loss: 2.9982 - accuracy: 0.3642 - val_loss: 2.0059 - val_accuracy: 0.5530\n",
      "Epoch 2/20\n",
      "16/16 [==============================] - 0s 21ms/step - loss: 2.0268 - accuracy: 0.5373 - val_loss: 1.5814 - val_accuracy: 0.6420\n",
      "Epoch 3/20\n",
      "16/16 [==============================] - 0s 21ms/step - loss: 1.7043 - accuracy: 0.6024 - val_loss: 1.4068 - val_accuracy: 0.6650\n",
      "Epoch 4/20\n",
      "16/16 [==============================] - 0s 21ms/step - loss: 1.4991 - accuracy: 0.6443 - val_loss: 1.2955 - val_accuracy: 0.6920\n",
      "Epoch 5/20\n",
      "16/16 [==============================] - 0s 21ms/step - loss: 1.3880 - accuracy: 0.6673 - val_loss: 1.2387 - val_accuracy: 0.7090\n",
      "Epoch 6/20\n",
      "16/16 [==============================] - 0s 21ms/step - loss: 1.2897 - accuracy: 0.6932 - val_loss: 1.1845 - val_accuracy: 0.7240\n",
      "Epoch 7/20\n",
      "16/16 [==============================] - 0s 22ms/step - loss: 1.2137 - accuracy: 0.7102 - val_loss: 1.1344 - val_accuracy: 0.7360\n",
      "Epoch 8/20\n",
      "16/16 [==============================] - 0s 21ms/step - loss: 1.1354 - accuracy: 0.7221 - val_loss: 1.0959 - val_accuracy: 0.7560\n",
      "Epoch 9/20\n",
      "16/16 [==============================] - 0s 21ms/step - loss: 1.0676 - accuracy: 0.7383 - val_loss: 1.0697 - val_accuracy: 0.7610\n",
      "Epoch 10/20\n",
      "16/16 [==============================] - 0s 21ms/step - loss: 1.0056 - accuracy: 0.7523 - val_loss: 1.0573 - val_accuracy: 0.7700\n",
      "Epoch 11/20\n",
      "16/16 [==============================] - 0s 21ms/step - loss: 0.9548 - accuracy: 0.7598 - val_loss: 1.0378 - val_accuracy: 0.7770\n",
      "Epoch 12/20\n",
      "16/16 [==============================] - 0s 21ms/step - loss: 0.9031 - accuracy: 0.7715 - val_loss: 1.0298 - val_accuracy: 0.7780\n",
      "Epoch 13/20\n",
      "16/16 [==============================] - 0s 21ms/step - loss: 0.8800 - accuracy: 0.7819 - val_loss: 1.0192 - val_accuracy: 0.7870\n",
      "Epoch 14/20\n",
      "16/16 [==============================] - 0s 22ms/step - loss: 0.8429 - accuracy: 0.7878 - val_loss: 1.0168 - val_accuracy: 0.7920\n",
      "Epoch 15/20\n",
      "16/16 [==============================] - 0s 21ms/step - loss: 0.7990 - accuracy: 0.7998 - val_loss: 1.0098 - val_accuracy: 0.7970\n",
      "Epoch 16/20\n",
      "16/16 [==============================] - 0s 21ms/step - loss: 0.7685 - accuracy: 0.8048 - val_loss: 1.0069 - val_accuracy: 0.8040\n",
      "Epoch 17/20\n",
      "16/16 [==============================] - 0s 21ms/step - loss: 0.7377 - accuracy: 0.8099 - val_loss: 0.9836 - val_accuracy: 0.8090\n",
      "Epoch 18/20\n",
      "16/16 [==============================] - 0s 21ms/step - loss: 0.7024 - accuracy: 0.8208 - val_loss: 1.0084 - val_accuracy: 0.7940\n",
      "Epoch 19/20\n",
      "16/16 [==============================] - 0s 21ms/step - loss: 0.6792 - accuracy: 0.8213 - val_loss: 1.0171 - val_accuracy: 0.8050\n",
      "Epoch 20/20\n",
      "16/16 [==============================] - 0s 20ms/step - loss: 0.6601 - accuracy: 0.8274 - val_loss: 1.0104 - val_accuracy: 0.8040\n",
      "71/71 [==============================] - 0s 1ms/step - loss: 1.1511 - accuracy: 0.7774\n"
     ]
    }
   ],
   "source": [
    "model = models.Sequential()\n",
    "model.add(layers.Dense(64, activation='relu', input_shape=(10000,)))\n",
    "model.add(layers.Dropout(0.5))\n",
    "model.add(layers.Dense(64, activation='relu'))\n",
    "model.add(layers.Dropout(0.5))\n",
    "model.add(layers.Dense(46, activation='softmax'))\n",
    "\n",
    "model.compile(optimizer='rmsprop',\n",
    "        loss='categorical_crossentropy',\n",
    "        metrics=['accuracy'])\n",
    "history = model.fit(partial_x_train,\n",
    "            partial_y_train,\n",
    "            epochs=20,\n",
    "            batch_size=512,\n",
    "            validation_data=(x_val, y_val))\n",
    "results = model.evaluate(x_test, one_hot_test_labels)"
   ]
  },
  {
   "cell_type": "code",
   "execution_count": 26,
   "metadata": {},
   "outputs": [
    {
     "data": {
      "image/png": "[encoded data removed]",
      "text/plain": [
       "<Figure size 432x288 with 1 Axes>"
      ]
     },
     "metadata": {
      "needs_background": "light"
     },
     "output_type": "display_data"
    }
   ],
   "source": [
    "loss = history.history['loss']\n",
    "val_loss = history.history['val_loss']\n",
    "epochs = range(1, len(loss) + 1)\n",
    "plt.plot(epochs, loss, 'bo', label='Training loss')\n",
    "plt.plot(epochs, val_loss, 'b', label='Validation loss')\n",
    "plt.title('Training and validation loss')\n",
    "plt.xlabel('Epochs')\n",
    "plt.ylabel('Loss')\n",
    "plt.legend()\n",
    "plt.show()"
   ]
  },
  {
   "cell_type": "markdown",
   "metadata": {},
   "source": [
    "The graph above is extremely different from the graphs we have seen above. After adding dropout rates at 0.5 for the first two hidden layers, it seemingly created a good graph, due to the training loss and validation loss being very close, however the training loss is considerably higher than previous models at 66%, whereas in Model 1, the training loss reached 10%, However the validation loss remained almost identical to the first model. therefore performance of the model was greatly affected."
   ]
  },
  {
   "cell_type": "code",
   "execution_count": 27,
   "metadata": {},
   "outputs": [
    {
     "data": {
      "image/png": "[encoded data removed]",
      "text/plain": [
       "<Figure size 432x288 with 1 Axes>"
      ]
     },
     "metadata": {
      "needs_background": "light"
     },
     "output_type": "display_data"
    }
   ],
   "source": [
    "acc = history.history['accuracy']\n",
    "val_acc = history.history['val_accuracy']\n",
    "plt.plot(epochs, acc, 'bo', label='Training acc')\n",
    "plt.plot(epochs, val_acc, 'b', label='Validation acc')\n",
    "plt.title('Training and validation accuracy')\n",
    "plt.xlabel('Epochs')\n",
    "plt.ylabel('Accuracy')\n",
    "plt.legend()\n",
    "plt.show()"
   ]
  },
  {
   "cell_type": "markdown",
   "metadata": {},
   "source": [
    "Similarly to the loss graph, the datasets for the training and validation accuracy are very close compared to other models. This is due to adding dropouts which in return created a good graph, however the training accuracy was affected, as it reached almost 96% in the first model, and only reached 83% in this model. This is a similar case to the loss graph, where a good graph was created at the price of a lower performance."
   ]
  },
  {
   "cell_type": "markdown",
   "metadata": {},
   "source": [
    "## Experiment 6 - Removing Layer and Decreasing dropout rate \n",
    "Decreasing Dropout with 1 hidden layer, trying to reduce validation loss"
   ]
  },
  {
   "cell_type": "code",
   "execution_count": 36,
   "metadata": {},
   "outputs": [
    {
     "name": "stdout",
     "output_type": "stream",
     "text": [
      "Epoch 1/20\n",
      "63/63 [==============================] - 1s 14ms/step - loss: 1.9765 - accuracy: 0.6204 - val_loss: 1.2730 - val_accuracy: 0.7260\n",
      "Epoch 2/20\n",
      "63/63 [==============================] - 1s 11ms/step - loss: 1.0590 - accuracy: 0.7725 - val_loss: 1.0164 - val_accuracy: 0.7900\n",
      "Epoch 3/20\n",
      "63/63 [==============================] - 1s 11ms/step - loss: 0.7652 - accuracy: 0.8354 - val_loss: 0.9027 - val_accuracy: 0.8170\n",
      "Epoch 4/20\n",
      "63/63 [==============================] - 1s 11ms/step - loss: 0.5835 - accuracy: 0.8789 - val_loss: 0.8433 - val_accuracy: 0.8240\n",
      "Epoch 5/20\n",
      "63/63 [==============================] - 1s 11ms/step - loss: 0.4514 - accuracy: 0.9052 - val_loss: 0.8095 - val_accuracy: 0.8310\n",
      "Epoch 6/20\n",
      "63/63 [==============================] - 1s 12ms/step - loss: 0.3522 - accuracy: 0.9248 - val_loss: 0.8102 - val_accuracy: 0.8330\n",
      "Epoch 7/20\n",
      "63/63 [==============================] - 1s 12ms/step - loss: 0.2982 - accuracy: 0.9342 - val_loss: 0.7988 - val_accuracy: 0.8370\n",
      "Epoch 8/20\n",
      "63/63 [==============================] - 1s 11ms/step - loss: 0.2513 - accuracy: 0.9417 - val_loss: 0.8609 - val_accuracy: 0.8260\n",
      "Epoch 9/20\n",
      "63/63 [==============================] - 1s 11ms/step - loss: 0.2122 - accuracy: 0.9485 - val_loss: 0.8634 - val_accuracy: 0.8330\n",
      "Epoch 10/20\n",
      "63/63 [==============================] - 1s 11ms/step - loss: 0.1966 - accuracy: 0.9495 - val_loss: 0.8823 - val_accuracy: 0.8290\n",
      "Epoch 11/20\n",
      "63/63 [==============================] - 1s 11ms/step - loss: 0.1662 - accuracy: 0.9531 - val_loss: 0.9004 - val_accuracy: 0.8280\n",
      "Epoch 12/20\n",
      "63/63 [==============================] - 1s 11ms/step - loss: 0.1556 - accuracy: 0.9548 - val_loss: 0.9249 - val_accuracy: 0.8250\n",
      "Epoch 13/20\n",
      "63/63 [==============================] - 1s 11ms/step - loss: 0.1449 - accuracy: 0.9568 - val_loss: 0.9700 - val_accuracy: 0.8190\n",
      "Epoch 14/20\n",
      "63/63 [==============================] - 1s 11ms/step - loss: 0.1341 - accuracy: 0.9572 - val_loss: 0.9843 - val_accuracy: 0.8210\n",
      "Epoch 15/20\n",
      "63/63 [==============================] - 1s 11ms/step - loss: 0.1318 - accuracy: 0.9575 - val_loss: 1.0097 - val_accuracy: 0.8240\n",
      "Epoch 16/20\n",
      "63/63 [==============================] - 1s 11ms/step - loss: 0.1236 - accuracy: 0.9583 - val_loss: 1.0356 - val_accuracy: 0.8230\n",
      "Epoch 17/20\n",
      "63/63 [==============================] - 1s 11ms/step - loss: 0.1149 - accuracy: 0.9584 - val_loss: 1.0872 - val_accuracy: 0.8200\n",
      "Epoch 18/20\n",
      "63/63 [==============================] - 1s 10ms/step - loss: 0.1121 - accuracy: 0.9573 - val_loss: 1.1017 - val_accuracy: 0.8120\n",
      "Epoch 19/20\n",
      "63/63 [==============================] - 1s 11ms/step - loss: 0.1083 - accuracy: 0.9593 - val_loss: 1.1291 - val_accuracy: 0.8150\n",
      "Epoch 20/20\n",
      "63/63 [==============================] - 1s 10ms/step - loss: 0.1062 - accuracy: 0.9604 - val_loss: 1.1508 - val_accuracy: 0.8120\n",
      "71/71 [==============================] - 0s 1ms/step - loss: 1.3517 - accuracy: 0.7943\n"
     ]
    }
   ],
   "source": [
    "model = models.Sequential()\n",
    "model.add(layers.Dense(64, activation='relu', input_shape=(10000,)))\n",
    "model.add(layers.Dropout(0.2))\n",
    "#model.add(layers.Dense(64, activation='relu'))\n",
    "model.add(layers.Dense(46, activation='softmax'))\n",
    "model.compile(optimizer='rmsprop',\n",
    "        loss='categorical_crossentropy',\n",
    "        metrics=['accuracy'])\n",
    "history = model.fit(partial_x_train,\n",
    "            partial_y_train,\n",
    "            epochs=20,\n",
    "            batch_size=128,\n",
    "            validation_data=(x_val, y_val))\n",
    "results = model.evaluate(x_test, one_hot_test_labels)"
   ]
  },
  {
   "cell_type": "markdown",
   "metadata": {},
   "source": [
    "For this model, we removed one hidden layer as my previous model with one hidden layer had good performance, pairing this with the dropout model, however this time reducing the dropout to 0.2, we was hoping that the validation loss was reduced."
   ]
  },
  {
   "cell_type": "code",
   "execution_count": 37,
   "metadata": {},
   "outputs": [
    {
     "data": {
      "image/png": "[encoded data removed]",
      "text/plain": [
       "<Figure size 432x288 with 1 Axes>"
      ]
     },
     "metadata": {
      "needs_background": "light"
     },
     "output_type": "display_data"
    }
   ],
   "source": [
    "loss = history.history['loss']\n",
    "val_loss = history.history['val_loss']\n",
    "epochs = range(1, len(loss) + 1)\n",
    "plt.plot(epochs, loss, 'bo', label='Training loss')\n",
    "plt.plot(epochs, val_loss, 'b', label='Validation loss')\n",
    "plt.title('Training and validation loss')\n",
    "plt.xlabel('Epochs')\n",
    "plt.ylabel('Loss')\n",
    "plt.legend()\n",
    "plt.show()"
   ]
  },
  {
   "cell_type": "markdown",
   "metadata": {},
   "source": [
    "The training loss for this model improved greatly, as it was now at 10%, rather than 60%. The validation loss also hit a new low, at just below 80%, at epoch 7, however it then started to increase each epoch, making this an overfitting graph."
   ]
  },
  {
   "cell_type": "code",
   "execution_count": 38,
   "metadata": {},
   "outputs": [
    {
     "data": {
      "image/png": "[encoded data removed]",
      "text/plain": [
       "<Figure size 432x288 with 1 Axes>"
      ]
     },
     "metadata": {
      "needs_background": "light"
     },
     "output_type": "display_data"
    }
   ],
   "source": [
    "acc = history.history['accuracy']\n",
    "val_acc = history.history['val_accuracy']\n",
    "plt.plot(epochs, acc, 'bo', label='Training acc')\n",
    "plt.plot(epochs, val_acc, 'b', label='Validation acc')\n",
    "plt.title('Training and validation accuracy')\n",
    "plt.xlabel('Epochs')\n",
    "plt.ylabel('Accuracy')\n",
    "plt.legend()\n",
    "plt.show()"
   ]
  },
  {
   "cell_type": "markdown",
   "metadata": {},
   "source": [
    "The training accuracy also greatly improved, as it reached 96%, compared to 82%, from the previous model. The validation accuracy peaked at 83% very early on at epoch 5, and then started to decrease or hit 83% again each epoch, making this an overfitting graph."
   ]
  },
  {
   "cell_type": "markdown",
   "metadata": {},
   "source": [
    "## Model 7 - L1 and L2 Regularisation \n",
    "Using the first model, but now adding L1 and L2 regularisation at 0.001."
   ]
  },
  {
   "cell_type": "code",
   "execution_count": 28,
   "metadata": {},
   "outputs": [
    {
     "name": "stdout",
     "output_type": "stream",
     "text": [
      "Epoch 1/20\n",
      "16/16 [==============================] - 1s 34ms/step - loss: 6.0705 - accuracy: 0.4922 - val_loss: 3.1643 - val_accuracy: 0.5530\n",
      "Epoch 2/20\n",
      "16/16 [==============================] - 0s 24ms/step - loss: 2.8931 - accuracy: 0.5892 - val_loss: 2.6947 - val_accuracy: 0.6290\n",
      "Epoch 3/20\n",
      "16/16 [==============================] - 0s 23ms/step - loss: 2.6000 - accuracy: 0.6458 - val_loss: 2.5063 - val_accuracy: 0.6680\n",
      "Epoch 4/20\n",
      "16/16 [==============================] - 0s 23ms/step - loss: 2.4456 - accuracy: 0.6749 - val_loss: 2.3991 - val_accuracy: 0.6890\n",
      "Epoch 5/20\n",
      "16/16 [==============================] - 0s 24ms/step - loss: 2.3462 - accuracy: 0.6868 - val_loss: 2.2913 - val_accuracy: 0.6880\n",
      "Epoch 6/20\n",
      "16/16 [==============================] - 0s 24ms/step - loss: 2.2568 - accuracy: 0.6946 - val_loss: 2.2198 - val_accuracy: 0.6860\n",
      "Epoch 7/20\n",
      "16/16 [==============================] - 0s 25ms/step - loss: 2.1940 - accuracy: 0.6964 - val_loss: 2.1594 - val_accuracy: 0.6990\n",
      "Epoch 8/20\n",
      "16/16 [==============================] - 0s 25ms/step - loss: 2.1445 - accuracy: 0.6978 - val_loss: 2.1166 - val_accuracy: 0.6980\n",
      "Epoch 9/20\n",
      "16/16 [==============================] - 0s 25ms/step - loss: 2.0842 - accuracy: 0.7047 - val_loss: 2.1147 - val_accuracy: 0.6890\n",
      "Epoch 10/20\n",
      "16/16 [==============================] - 0s 24ms/step - loss: 2.0601 - accuracy: 0.7053 - val_loss: 2.0404 - val_accuracy: 0.7010\n",
      "Epoch 11/20\n",
      "16/16 [==============================] - 0s 24ms/step - loss: 2.0155 - accuracy: 0.7093 - val_loss: 2.0355 - val_accuracy: 0.6980\n",
      "Epoch 12/20\n",
      "16/16 [==============================] - 0s 23ms/step - loss: 1.9929 - accuracy: 0.7145 - val_loss: 1.9989 - val_accuracy: 0.7070\n",
      "Epoch 13/20\n",
      "16/16 [==============================] - 0s 24ms/step - loss: 1.9589 - accuracy: 0.7204 - val_loss: 1.9818 - val_accuracy: 0.7260\n",
      "Epoch 14/20\n",
      "16/16 [==============================] - 0s 24ms/step - loss: 1.9530 - accuracy: 0.7187 - val_loss: 2.0010 - val_accuracy: 0.7040\n",
      "Epoch 15/20\n",
      "16/16 [==============================] - 0s 24ms/step - loss: 1.9204 - accuracy: 0.7290 - val_loss: 1.9558 - val_accuracy: 0.7090\n",
      "Epoch 16/20\n",
      "16/16 [==============================] - 0s 24ms/step - loss: 1.9080 - accuracy: 0.7328 - val_loss: 1.9236 - val_accuracy: 0.7210\n",
      "Epoch 17/20\n",
      "16/16 [==============================] - 0s 24ms/step - loss: 1.8834 - accuracy: 0.7408 - val_loss: 1.9346 - val_accuracy: 0.7210\n",
      "Epoch 18/20\n",
      "16/16 [==============================] - 0s 24ms/step - loss: 1.8783 - accuracy: 0.7412 - val_loss: 1.8764 - val_accuracy: 0.7300\n",
      "Epoch 19/20\n",
      "16/16 [==============================] - 0s 24ms/step - loss: 1.8495 - accuracy: 0.7457 - val_loss: 1.8787 - val_accuracy: 0.7540\n",
      "Epoch 20/20\n",
      "16/16 [==============================] - 0s 21ms/step - loss: 1.8458 - accuracy: 0.7487 - val_loss: 1.8684 - val_accuracy: 0.7490\n",
      "71/71 [==============================] - 0s 3ms/step - loss: 1.9418 - accuracy: 0.7293\n"
     ]
    }
   ],
   "source": [
    "from keras import regularizers\n",
    "model = models.Sequential()\n",
    "model.add(layers.Dense(64, kernel_regularizer=regularizers.l1_l2(l1=0.001, l2=0.001), activation='relu', input_shape=(10000,)))\n",
    "\n",
    "model.add(layers.Dense(64, kernel_regularizer=regularizers.l1_l2(l1=0.001, l2=0.001), activation='relu'))\n",
    "\n",
    "model.add(layers.Dense(46, activation='softmax'))\n",
    "\n",
    "model.compile(optimizer='rmsprop',\n",
    "        loss='categorical_crossentropy',\n",
    "        metrics=['accuracy'])\n",
    "history = model.fit(partial_x_train,\n",
    "            partial_y_train,\n",
    "            epochs=20,\n",
    "            batch_size=512,\n",
    "            validation_data=(x_val, y_val))\n",
    "results = model.evaluate(x_test, one_hot_test_labels)"
   ]
  },
  {
   "cell_type": "code",
   "execution_count": 29,
   "metadata": {},
   "outputs": [
    {
     "data": {
      "image/png": "[encoded data removed]",
      "text/plain": [
       "<Figure size 432x288 with 1 Axes>"
      ]
     },
     "metadata": {
      "needs_background": "light"
     },
     "output_type": "display_data"
    }
   ],
   "source": [
    "loss = history.history['loss']\n",
    "val_loss = history.history['val_loss']\n",
    "epochs = range(1, len(loss) + 1)\n",
    "plt.plot(epochs, loss, 'bo', label='Training loss')\n",
    "plt.plot(epochs, val_loss, 'b', label='Validation loss')\n",
    "plt.title('Training and validation loss')\n",
    "plt.xlabel('Epochs')\n",
    "plt.ylabel('Loss')\n",
    "plt.legend()\n",
    "plt.show()"
   ]
  },
  {
   "cell_type": "markdown",
   "metadata": {},
   "source": [
    "Adding L1 and L2 regularisation created the best graphs, the loss for the training and validation data set were almost identical as you can see from the graph above. However, performance was greatly affected as both losses reached above 180%, making it the highest loss percentage out of all the models."
   ]
  },
  {
   "cell_type": "code",
   "execution_count": 30,
   "metadata": {},
   "outputs": [
    {
     "data": {
      "image/png": "[encoded data removed]",
      "text/plain": [
       "<Figure size 432x288 with 1 Axes>"
      ]
     },
     "metadata": {
      "needs_background": "light"
     },
     "output_type": "display_data"
    }
   ],
   "source": [
    "acc = history.history['accuracy']\n",
    "val_acc = history.history['val_accuracy']\n",
    "plt.plot(epochs, acc, 'bo', label='Training acc')\n",
    "plt.plot(epochs, val_acc, 'b', label='Validation acc')\n",
    "plt.title('Training and validation accuracy')\n",
    "plt.xlabel('Epochs')\n",
    "plt.ylabel('Accuracy')\n",
    "plt.legend()\n",
    "plt.show()"
   ]
  },
  {
   "cell_type": "markdown",
   "metadata": {},
   "source": [
    "Adding L1 and L2 regularisation also created a good graph for the training and validation accuracy, however similarly to the loss graph, performance was affected a lot. The training accuracy only reached 74% and the validation accuracy peaked at 75% at epoch 19, a significant decrease from other models, where we was able to reach over 93% training accuracy in all models besides model 5, where it still peaked at 82%, and atleast 80% validation accuracy in every other model."
   ]
  },
  {
   "cell_type": "markdown",
   "metadata": {},
   "source": [
    "# Conclusion and Evaluation\n",
    "\n",
    "After looking at my models, it is clear that some models are better than others depending on what you are focusing on. The model with the greatest accuracy was model 4 - removing layers. Here we ran the model at 9 epochs and reached 82% validation accuracy at 9 epochs, however model 6 peaked at 83% validation accuracy early on, although this figure decreased in the following epochs. Model 4 also had the best validation loss, where it reached 83% at 9 epochs, however model 6 peaked at 79% validation loss at epoch 7, but this figure decreased as it reached 20 epochs.\n",
    "\n",
    "Going off the graphs alone, model 7 produced the best graphs, where validation and training loss/accuracy were almost identical creating a good graph, however we would not use this model due to the extremely high validation loss rate at over 180% and low validation accuracy rate, at 75%. We would pick model 4 as my best model due to the loss and accuracy rate, in which it performed well in both, compared to the other models.\n"
   ]
  },
  {
   "cell_type": "code",
   "execution_count": null,
   "metadata": {},
   "outputs": [],
   "source": []
  }
 ],
 "metadata": {
  "kernelspec": {
   "display_name": "Python 3",
   "language": "python",
   "name": "python3"
  },
  "language_info": {
   "codemirror_mode": {
    "name": "ipython",
    "version": 3
   },
   "file_extension": ".py",
   "mimetype": "text/x-python",
   "name": "python",
   "nbconvert_exporter": "python",
   "pygments_lexer": "ipython3",
   "version": "3.8.5"
  }
 },
 "nbformat": 4,
 "nbformat_minor": 4
}
